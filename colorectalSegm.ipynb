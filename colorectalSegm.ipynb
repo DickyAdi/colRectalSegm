{
 "cells": [
  {
   "cell_type": "code",
   "execution_count": 6,
   "metadata": {},
   "outputs": [],
   "source": [
    "import pandas as pd\n",
    "import numpy as np\n",
    "import os\n",
    "import json\n",
    "import cv2\n",
    "import lightning.pytorch as pl\n",
    "import matplotlib.pyplot as plt\n",
    "import torch\n",
    "import torch.nn as nn\n",
    "import torch.optim as optim\n",
    "import torchvision.transforms as transforms\n",
    "import torchvision.utils as utils\n",
    "import torchvision.transforms.functional as tf\n",
    "import torch.nn.functional as f\n",
    "import torchvision\n",
    "import torchmetrics as metrics\n",
    "from lightning.pytorch.loggers import TensorBoardLogger\n",
    "from PIL import Image, ImageColor\n",
    "import albumentations as A\n",
    "from albumentations.pytorch import ToTensorV2\n",
    "from torchinfo import summary\n",
    "from torch.utils.data import DataLoader, Dataset, random_split\n",
    "from pathlib import Path"
   ]
  },
  {
   "cell_type": "code",
   "execution_count": 5,
   "metadata": {},
   "outputs": [],
   "source": [
    "colors = [\n",
    "    (255, 0, 0),    \n",
    "    (0, 255, 0),    \n",
    "    (0, 0, 255),    \n",
    "    (255, 255, 0),  \n",
    "    (0, 255, 255),  \n",
    "    (255, 0, 255),  \n",
    "    (128, 0, 0),    \n",
    "    (0, 128, 0),    \n",
    "    (0, 0, 128),    \n",
    "    (128, 128, 0),  \n",
    "    (0, 128, 128),  \n",
    "    (128, 0, 128),  \n",
    "    (128, 128, 128),\n",
    "    (192, 192, 192),\n",
    "    (255, 165, 0),  \n",
    "    (210, 105, 30), \n",
    "    (255, 69, 0),   \n",
    "    (0, 128, 128),  \n",
    "    (139, 0, 0),    \n",
    "    (0, 139, 0),    \n",
    "    (0, 0, 139),    \n",
    "    (255, 215, 0),  \n",
    "    (0, 255, 0),    \n",
    "    (0, 0, 255),    \n",
    "    (255, 20, 147), \n",
    "    (0, 128, 0),    \n",
    "    (0, 0, 128),    \n",
    "    (255, 140, 0),  \n",
    "    (128, 0, 128),  \n",
    "    (128, 128, 0)   \n",
    "]"
   ]
  },
  {
   "cell_type": "code",
   "execution_count": 104,
   "metadata": {},
   "outputs": [],
   "source": [
    "dataDir = Path('EBHI-SEG')\n",
    "# dataDict = {'imagePath' : [],\n",
    "#             'labelPath' : [],\n",
    "#             'className' : []}\n",
    "\n",
    "classNames = [classes for classes in os.listdir(dataDir) if os.path.isdir(os.path.join(dataDir, classes))]\n",
    "imageList = []\n",
    "labelList = []\n",
    "classList = []\n",
    "\n",
    "for className in classNames:\n",
    "    classDir = os.path.join(dataDir, className)\n",
    "    imageDir = os.path.join(classDir, 'image')\n",
    "    labelDir = os.path.join(classDir, 'label')\n",
    "    imagePath = [file for file in os.listdir(imageDir)]\n",
    "    labelPath = [file for file in os.listdir(labelDir)]\n",
    "    for img, lbl in zip(imagePath, labelPath):\n",
    "        if str(img).lower() == str(lbl).lower():\n",
    "            imageList.append(os.path.join(imageDir, img))\n",
    "            labelList.append(os.path.join(labelDir, lbl))\n",
    "            classList.append(className)"
   ]
  },
  {
   "cell_type": "code",
   "execution_count": 100,
   "metadata": {},
   "outputs": [
    {
     "name": "stdout",
     "output_type": "stream",
     "text": [
      "1888\n"
     ]
    }
   ],
   "source": [
    "print(len(imageList))"
   ]
  },
  {
   "cell_type": "code",
   "execution_count": 105,
   "metadata": {},
   "outputs": [],
   "source": [
    "df = pd.DataFrame({'image' : imageList, 'label' : labelList, 'class' : classList})"
   ]
  },
  {
   "cell_type": "code",
   "execution_count": 110,
   "metadata": {},
   "outputs": [
    {
     "data": {
      "text/plain": [
       "array(['Low-grade IN', 'Adenocarcinoma', 'High-grade IN', 'Normal',\n",
       "       'Polyp', 'Serrated adenoma'], dtype=object)"
      ]
     },
     "execution_count": 110,
     "metadata": {},
     "output_type": "execute_result"
    }
   ],
   "source": [
    "df['class'].unique()"
   ]
  },
  {
   "cell_type": "code",
   "execution_count": 48,
   "metadata": {},
   "outputs": [
    {
     "name": "stdout",
     "output_type": "stream",
     "text": [
      "Low-grade IN\n",
      "label\n",
      "637\n",
      "Low-grade IN\n",
      "image\n",
      "639\n",
      "Adenocarcinoma\n",
      "label\n",
      "795\n",
      "Adenocarcinoma\n",
      "image\n",
      "795\n",
      "High-grade IN\n",
      "label\n",
      "186\n",
      "High-grade IN\n",
      "image\n",
      "186\n",
      "Normal\n",
      "label\n",
      "76\n",
      "Normal\n",
      "image\n",
      "76\n",
      "Polyp\n",
      "label\n",
      "474\n",
      "Polyp\n",
      "image\n",
      "474\n",
      "Serrated adenoma\n",
      "label\n",
      "58\n",
      "Serrated adenoma\n",
      "image\n",
      "58\n"
     ]
    }
   ],
   "source": [
    "for folder in dataDir.iterdir():\n",
    "    if folder.is_dir():\n",
    "        for folder2 in folder.iterdir():\n",
    "            if folder2.is_dir():\n",
    "                print(folder.name)\n",
    "                print(folder2.name)\n",
    "                print()"
   ]
  },
  {
   "cell_type": "code",
   "execution_count": null,
   "metadata": {},
   "outputs": [],
   "source": []
  }
 ],
 "metadata": {
  "kernelspec": {
   "display_name": "Python 3",
   "language": "python",
   "name": "python3"
  },
  "language_info": {
   "codemirror_mode": {
    "name": "ipython",
    "version": 3
   },
   "file_extension": ".py",
   "mimetype": "text/x-python",
   "name": "python",
   "nbconvert_exporter": "python",
   "pygments_lexer": "ipython3",
   "version": "3.11.2"
  },
  "orig_nbformat": 4
 },
 "nbformat": 4,
 "nbformat_minor": 2
}
